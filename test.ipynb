{
 "cells": [
  {
   "cell_type": "code",
   "execution_count": 33,
   "metadata": {},
   "outputs": [],
   "source": [
    "import json\n",
    "import mp_mocap.mp_manager\n",
    "import mp_mocap.mp_helper\n",
    "import mp_mocap.gizmo\n",
    "import mp_mocap.mixamo_data\n",
    "import redis\n",
    "mpm = mp_mocap.mp_manager.MediapipeManager()\n",
    "mpm.is_show_result = False"
   ]
  },
  {
   "cell_type": "code",
   "execution_count": 34,
   "metadata": {},
   "outputs": [],
   "source": [
    "mpm.redis = redis.Redis(host='localhost', port=6379, db=0)"
   ]
  },
  {
   "cell_type": "code",
   "execution_count": 35,
   "metadata": {},
   "outputs": [],
   "source": [
    "model = \"./model.json\"\n",
    "video_path = \"./test.mp4\"\n",
    "model_data = None\n",
    "output_name = \"./out.json\""
   ]
  },
  {
   "cell_type": "code",
   "execution_count": 36,
   "metadata": {},
   "outputs": [
    {
     "data": {
      "text/plain": [
       "str"
      ]
     },
     "execution_count": 36,
     "metadata": {},
     "output_type": "execute_result"
    }
   ],
   "source": [
    "with open(model) as f:\n",
    "    model_data = json.load(f)\n",
    "model_data = json.dumps(model_data)\n",
    "type(model_data)"
   ]
  },
  {
   "cell_type": "code",
   "execution_count": 37,
   "metadata": {},
   "outputs": [
    {
     "name": "stdout",
     "output_type": "stream",
     "text": [
      "./test.mp4\n",
      "factor 0.33462571892493154\n",
      "duration: 201\n"
     ]
    }
   ],
   "source": [
    "\n",
    "mp_mocap.gizmo.g_is_abs = False \n",
    "mpm.set_key(1, False, 0.5)\n",
    "mpm.is_show_result = False\n",
    "\n",
    "mpm.min_visibility = 0.0\n",
    "mpm.fps = 24\n",
    "\n",
    "mpm.factor = 0.0\n",
    "           \n",
    "_, animjson = mp_mocap.mp_helper.mediapipe_to_mixamo(mpm, model_data, video_path)\n",
    "with open(output_name, 'w') as f:\n",
    "    json.dump(animjson, f, indent=2)\n"
   ]
  }
 ],
 "metadata": {
  "kernelspec": {
   "display_name": "Python 3",
   "language": "python",
   "name": "python3"
  },
  "language_info": {
   "codemirror_mode": {
    "name": "ipython",
    "version": 3
   },
   "file_extension": ".py",
   "mimetype": "text/x-python",
   "name": "python",
   "nbconvert_exporter": "python",
   "pygments_lexer": "ipython3",
   "version": "3.11.3"
  }
 },
 "nbformat": 4,
 "nbformat_minor": 2
}
