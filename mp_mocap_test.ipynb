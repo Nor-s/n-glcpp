{
 "cells": [
  {
   "cell_type": "code",
   "execution_count": 26,
   "metadata": {},
   "outputs": [],
   "source": [
    "import mp_mocap\n",
    "import json"
   ]
  },
  {
   "cell_type": "code",
   "execution_count": 27,
   "metadata": {},
   "outputs": [],
   "source": [
    "is_angle_adjustment = False\n",
    "model_complexity = 1\n",
    "min_visibility = 0.5\n",
    "custom_fps = 30\n",
    "custom_factor = 0\n",
    "model = \"./model.json\"\n",
    "# video_path = \"./test.mp4\"\n",
    "video_path = \"./myface.mkv\"\n",
    "model_data = None\n",
    "output_path = \"./out.json\"\n",
    "\n",
    "with open(model) as f:\n",
    "    model_data = json.load(f)\n",
    "model_data = json.dumps(model_data)"
   ]
  },
  {
   "cell_type": "code",
   "execution_count": 28,
   "metadata": {},
   "outputs": [
    {
     "name": "stdout",
     "output_type": "stream",
     "text": [
      "./myface.mkv\n",
      "factor 0.11308438077033005\n",
      "'NoneType' object is not subscriptable\n",
      "duration: 677\n"
     ]
    }
   ],
   "source": [
    "mp_mocap.set_mediapipe_status(\n",
    "\tis_angle_adjustment=is_angle_adjustment,\n",
    "\tmodel_complexity=model_complexity,\n",
    "\tmin_detection_confidence=0.7,\n",
    "\tmin_visibility=min_visibility,\n",
    "\tcustom_fps=custom_fps,\n",
    "\tcustom_factor=custom_factor,\n",
    "\tstatic_image_mode=False\n",
    ")\n",
    "mp_mocap.manager.set_holistic()\n",
    "mp_mocap.set_redis_status(\n",
    "\tredis_host=\"localhost\",\n",
    "\tredis_port=6379,\n",
    "\tredis_db=0\n",
    ")\n",
    "mp_mocap.mediapipe_to_mixamo(model_data, video_path, output_path)"
   ]
  }
 ],
 "metadata": {
  "kernelspec": {
   "display_name": "Python 3",
   "language": "python",
   "name": "python3"
  },
  "language_info": {
   "codemirror_mode": {
    "name": "ipython",
    "version": 3
   },
   "file_extension": ".py",
   "mimetype": "text/x-python",
   "name": "python",
   "nbconvert_exporter": "python",
   "pygments_lexer": "ipython3",
   "version": "3.11.3"
  }
 },
 "nbformat": 4,
 "nbformat_minor": 2
}
